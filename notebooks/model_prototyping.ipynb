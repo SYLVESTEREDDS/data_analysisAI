{
 "cells": [
  {
   "cell_type": "code",
   "execution_count": null,
   "id": "c445c140",
   "metadata": {
    "vscode": {
     "languageId": "plaintext"
    }
   },
   "outputs": [],
   "source": [
    "{\n",
    " \"cells\": [\n",
    "  {\n",
    "   \"cell_type\": \"markdown\",\n",
    "   \"metadata\": {},\n",
    "   \"source\": [\n",
    "    \"# Forecasting Model Prototyping\\n\",\n",
    "    \"Use this notebook to experiment with time series forecasting models.\"\n",
    "   ]\n",
    "  },\n",
    "  {\n",
    "   \"cell_type\": \"code\",\n",
    "   \"metadata\": {},\n",
    "   \"source\": [\n",
    "    \"import pandas as pd\\n\",\n",
    "    \"from prophet import Prophet\\n\",\n",
    "    \"import matplotlib.pyplot as plt\\n\",\n",
    "    \"\\n\",\n",
    "    \"# Load dataset (replace with your local path)\\n\",\n",
    "    \"dataset_path = '../backend/data/raw/sample_timeseries.csv'\\n\",\n",
    "    \"df = pd.read_csv(dataset_path)\\n\",\n",
    "    \"\\n\",\n",
    "    \"# Ensure 'ds' and 'y' columns exist\\n\",\n",
    "    \"df = df.rename(columns={'date':'ds', 'value':'y'})\\n\",\n",
    "    \"\\n\",\n",
    "    \"# Fit Prophet model\\n\",\n",
    "    \"model = Prophet(daily_seasonality=True)\\n\",\n",
    "    \"model.fit(df)\\n\",\n",
    "    \"\\n\",\n",
    "    \"# Make future dataframe\\n\",\n",
    "    \"future = model.make_future_dataframe(periods=30)\\n\",\n",
    "    \"forecast = model.predict(future)\\n\",\n",
    "    \"\\n\",\n",
    "    \"# Plot forecast\\n\",\n",
    "    \"model.plot(forecast)\\n\",\n",
    "    \"plt.show()\"\n",
    "   ]\n",
    "  }\n",
    " ],\n",
    " \"metadata\": {},\n",
    " \"nbformat\": 4,\n",
    " \"nbformat_minor\": 5\n",
    "}\n"
   ]
  }
 ],
 "metadata": {
  "language_info": {
   "name": "python"
  }
 },
 "nbformat": 4,
 "nbformat_minor": 5
}
